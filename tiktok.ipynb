{
 "cells": [
  {
   "cell_type": "code",
   "execution_count": 10,
   "metadata": {},
   "outputs": [],
   "source": [
    "from urllib.request import urlopen as uReq\n",
    "from bs4 import BeautifulSoup\n",
    "import pandas as pdp\n",
    "import cloudscraper\n",
    "import re\n",
    "from selenium import webdriver\n",
    "from selenium.webdriver.common.keys import Keys\n",
    "from selenium.webdriver.chrome.service import Service\n",
    "from selenium.webdriver import Chrome\n",
    "from selenium.webdriver.chrome.options import Options\n",
    "from selenium.webdriver.common.by import By\n",
    "from selenium.webdriver.support.ui import WebDriverWait\n",
    "from selenium.webdriver.support import expected_conditions as EC\n",
    "from dotenv import load_dotenv\n",
    "import os\n",
    "import time\n",
    "from selenium.common.exceptions import TimeoutException\n",
    "from selenium.common.exceptions import NoSuchElementException"
   ]
  },
  {
   "cell_type": "code",
   "execution_count": 44,
   "metadata": {},
   "outputs": [],
   "source": [
    "def auto_scroll_main():\n",
    "    time.sleep(5)\n",
    "\n",
    "    # Scroll down the webpage\n",
    "    body = browser.find_element(By.TAG_NAME, 'body')\n",
    "    while True:\n",
    "        body.send_keys(Keys.PAGE_DOWN)\n",
    "        time.sleep(2)  # Adjust time according to your needs\n",
    "        no_more_results = browser.find_elements(By.CLASS_NAME, 'css-usx5e-DivNoMoreResultsContainer.eegew6e3')\n",
    "        if no_more_results:\n",
    "            print(\"No more results found. Stopping auto scroll.\")\n",
    "            break\n",
    "    "
   ]
  },
  {
   "cell_type": "markdown",
   "metadata": {},
   "source": [
    "## get links"
   ]
  },
  {
   "cell_type": "code",
   "execution_count": 57,
   "metadata": {},
   "outputs": [
    {
     "name": "stdout",
     "output_type": "stream",
     "text": [
      "No more results found. Stopping auto scroll.\n",
      "https://www.tiktok.com/@funmoons_/video/7340222764227333381\n",
      "https://www.tiktok.com/@breobreyen/video/7286385077582417158\n",
      "https://www.tiktok.com/@fernandoyosse99/video/6925004102653054210\n",
      "https://www.tiktok.com/@evamc_edukasipemula/video/7295969722716179717\n",
      "https://www.tiktok.com/@angelia.liee/video/7312610013569207557\n",
      "https://www.tiktok.com/@haojuga/video/7287926475519544581\n",
      "https://www.tiktok.com/@nurulindriw/video/7194412046836911387\n",
      "https://www.tiktok.com/@heylook03/video/7285786102647049477\n",
      "https://www.tiktok.com/@bisnisbarengbram/video/7111228678985600283\n",
      "https://www.tiktok.com/@klinikbisnis/video/7291624408261676293\n",
      "https://www.tiktok.com/@kinsonsworld/video/7322254704019246342\n",
      "https://www.tiktok.com/@ceootb/video/7291606494817144069\n",
      "https://www.tiktok.com/@dilazahqiya/video/7372822513262382341\n",
      "https://www.tiktok.com/@veroyapari/video/7335686464157666565\n",
      "https://www.tiktok.com/@pakarby/video/7368861969048243462\n",
      "https://www.tiktok.com/@rxchannell/video/7184789573669637402\n",
      "https://www.tiktok.com/@bpostonline/video/7283113418377186562\n",
      "https://www.tiktok.com/@rodingames/video/7352014852203941125\n",
      "https://www.tiktok.com/@ecommerce.guide/video/7380699495073467653\n",
      "https://www.tiktok.com/@estcyn/video/7146126842255133979\n",
      "https://www.tiktok.com/@idxchannel/video/6992421036583144705\n",
      "https://www.tiktok.com/@3idea.id/video/7273055892575210758\n",
      "https://www.tiktok.com/@bisniscom/video/7109349694618225922\n",
      "https://www.tiktok.com/@ronaldkwan/video/7262001715812027654\n",
      "https://www.tiktok.com/@dandinurd/video/7332719204795403525\n",
      "https://www.tiktok.com/@tiktokaffiliate_id/video/6979050036969655554\n",
      "https://www.tiktok.com/@tommcifle/video/7277363314336861446\n",
      "https://www.tiktok.com/@himaniafiaui/video/7281631171421687046\n",
      "https://www.tiktok.com/@idxchannel/video/6968674401273400578\n",
      "https://www.tiktok.com/@amanat_nasional/video/7286091065172495621\n",
      "https://www.tiktok.com/@dvelj_eans/video/7275576293171744005\n",
      "https://www.tiktok.com/@hendydion/video/7279324544127503622\n",
      "https://www.tiktok.com/@puput.gianna/video/7151345928887192858\n",
      "https://www.tiktok.com/@shaturday/video/7132796266970500378\n",
      "https://www.tiktok.com/@101bisnis/video/7277849769806990597\n",
      "https://www.tiktok.com/@hishine.id/video/7159164017154477314\n",
      "https://www.tiktok.com/@tiktokaffiliate_id/video/6979887926389837058\n",
      "https://www.tiktok.com/@rgbagshop/video/7287217289722629381\n",
      "https://www.tiktok.com/@ireniaofficial/video/6976923292234009858\n",
      "https://www.tiktok.com/@perdana.indra/video/7198019487373724954\n",
      "https://www.tiktok.com/@ravenclaw01/video/7285323542223228166\n",
      "https://www.tiktok.com/@baitululum.id/video/7287970511319993605\n",
      "https://www.tiktok.com/@obrolanpodcast/video/7285709131623812357\n",
      "https://www.tiktok.com/@menjadi_sukses/video/7272812110139247878\n",
      "https://www.tiktok.com/@hesfinatia/video/6956900968604732673\n",
      "https://www.tiktok.com/@reyfranswa/video/7017407027651661083\n",
      "https://www.tiktok.com/@ceritasuuy/video/6977675369734278402\n",
      "https://www.tiktok.com/@yukkitatumbuh/video/7366236350930095365\n",
      "https://www.tiktok.com/@irvingtan/video/6831804163370929410\n",
      "https://www.tiktok.com/@walid_khaled_official/video/7317239122110844192\n",
      "https://www.tiktok.com/@sunkenblimp/video/7191906388635946282\n",
      "https://www.tiktok.com/@kanatchu/video/7114532848656305435\n",
      "https://www.tiktok.com/@niaghan/video/6913042184845511937\n",
      "https://www.tiktok.com/@aliceboutique.id/video/7036197000072727810\n",
      "https://www.tiktok.com/@loganshippy/video/7177822594790362410\n",
      "https://www.tiktok.com/@bisnisbarengbram/video/6995792316208254234\n",
      "https://www.tiktok.com/@ceootb/video/7239797803583687942\n",
      "https://www.tiktok.com/@akur20/video/7384626141497265414\n",
      "https://www.tiktok.com/@ansarcomp/video/7328295129100340488\n",
      "https://www.tiktok.com/@raymondchins/video/7071205327395441947\n",
      "https://www.tiktok.com/@harimau92/video/7242118307392933125\n",
      "https://www.tiktok.com/@bagus.ya/video/7037433916176764186\n",
      "https://www.tiktok.com/@successofcourse/video/7133581358235995419\n",
      "https://www.tiktok.com/@successofcourse/video/7002193371175406875\n",
      "https://www.tiktok.com/@indrariswanaa/video/7107504600374152474\n",
      "https://www.tiktok.com/@felicia.tjiasaka/video/7051562834790026522\n",
      "https://www.tiktok.com/@maxdika.id/video/7372543214953204997\n",
      "https://www.tiktok.com/@dennysantoso.tribelio/video/7075934702288243995\n",
      "https://www.tiktok.com/@doddybicarainvestasi/video/7277406398797860101\n",
      "https://www.tiktok.com/@jiwakupengusaha/video/7150634715005865243\n",
      "https://www.tiktok.com/@ecommerce_with.awais/video/7359649478032248071\n",
      "https://www.tiktok.com/@makin_kaya/video/7139449756383776026\n",
      "https://www.tiktok.com/@quranlover493/video/7278905831205211400\n",
      "https://www.tiktok.com/@tiktokadsagency.officil/video/7384430193957489921\n",
      "https://www.tiktok.com/@marvin.mitchell/video/7203951679178362139\n",
      "https://www.tiktok.com/@aletaanovianda/video/7310173620800605446\n",
      "https://www.tiktok.com/@chatalog_/video/7268139870067952902\n",
      "https://www.tiktok.com/@irwandiferry/video/7258543054770965766\n",
      "https://www.tiktok.com/@ceritaombotak/video/7157303880622017818\n",
      "https://www.tiktok.com/@successofcourse/video/7371309001763589381\n",
      "https://www.tiktok.com/@fikrifebriananda/video/7273514416761605381\n",
      "https://www.tiktok.com/@rika.yeo/video/7267916911302806786\n",
      "https://www.tiktok.com/@asepabdurrahmanw/video/7254565169672604933\n",
      "https://www.tiktok.com/@mamikenzii/video/7384646419807784198\n",
      "https://www.tiktok.com/@victoriawong68/video/7313129916600536325\n",
      "https://www.tiktok.com/@meicamelisa/video/7077857205701119259\n",
      "https://www.tiktok.com/@hermobenitoclips/video/7299457217160383777\n",
      "https://www.tiktok.com/@adhita.yulia/video/7288579894034861318\n",
      "https://www.tiktok.com/@susankarina.cs/video/7305610184984890629\n",
      "https://www.tiktok.com/@elincrln/video/6832612089660525825\n",
      "https://www.tiktok.com/@indrajayapurba/video/7298968315706215685\n",
      "https://www.tiktok.com/@ceootb/video/7282614598203706629\n",
      "https://www.tiktok.com/@therobbiemurray/video/7005176675734392069\n",
      "https://www.tiktok.com/@dodizulkifli_brand/video/7186439134502849818\n",
      "https://www.tiktok.com/@noelia_digital/video/7299928403749129477\n",
      "https://www.tiktok.com/@mindsetbisniss.id/video/7371434804543376646\n",
      "https://www.tiktok.com/@leo_giovannii/video/7271205887375707397\n",
      "https://www.tiktok.com/@siggi.id/video/7279373858925186310\n",
      "https://www.tiktok.com/@nvydesign/video/7155746169723882779\n",
      "https://www.tiktok.com/@shahidtech543/video/7299353312950996230\n",
      "https://www.tiktok.com/@creativeconverters/video/7034020473365171458\n",
      "https://www.tiktok.com/@salmanrafiq809/video/7262741317460004101\n",
      "https://www.tiktok.com/@imfaisalshabbir/video/7267917423133641989\n",
      "https://www.tiktok.com/@crushlicious_id/video/7071219854694468890\n",
      "https://www.tiktok.com/@fazzagen/video/7320957757241249029\n",
      "https://www.tiktok.com/@business......1/video/7309170350191840517\n",
      "https://www.tiktok.com/@sb1mclub100/video/7237376367485078789\n",
      "https://www.tiktok.com/@myg.reseller/video/7284196121625349381\n",
      "https://www.tiktok.com/@nicholas.dennis/video/7148396914692656411\n",
      "https://www.tiktok.com/@jaquebue/video/7254239698460200218\n",
      "https://www.tiktok.com/@denyariyantow/video/7306459528134987014\n",
      "https://www.tiktok.com/@marketing.bread/video/7167274029278121242\n",
      "https://www.tiktok.com/@nok_ike/video/7366389254735383813\n",
      "https://www.tiktok.com/@lefondateur.business/video/7138062097799286022\n",
      "https://www.tiktok.com/@wifimrtn/video/7369566181935615265\n",
      "https://www.tiktok.com/@cpcmediamanagement/video/7224825254722506010\n",
      "https://www.tiktok.com/@aldwinnv/video/7078243566371310875\n",
      "https://www.tiktok.com/@ecommerce.vip/video/7348278822736809221\n",
      "https://www.tiktok.com/@tplanes/video/7270535321371086081\n",
      "https://www.tiktok.com/@adhita.yulia/video/7266697613645286662\n",
      "https://www.tiktok.com/@ebasel/video/7166996041202552065\n",
      "https://www.tiktok.com/@bisnisbarengbram/video/6969892228709862657\n",
      "https://www.tiktok.com/@rey.atmajaya99/video/7306503000258891013\n",
      "https://www.tiktok.com/@langkahmenujusukses01/video/7384687731168840965\n",
      "https://www.tiktok.com/@antonyecommerce/video/7309639706533252358\n",
      "https://www.tiktok.com/@sideofdewan/video/7045546278888934682\n",
      "https://www.tiktok.com/@notakusye/video/7131213687238429978\n",
      "https://www.tiktok.com/@hendra.setyo/video/7275133464377117957\n",
      "https://www.tiktok.com/@successofcourse/video/7275672571687816449\n"
     ]
    }
   ],
   "source": [
    "url = 'https://www.tiktok.com/search?q=e%20commerce&t=1719391783531'\n",
    "path = \"chromedriver-win64/chromedriver-win64/chromedriver.exe\"\n",
    "chrome_options = Options()\n",
    "service = Service(path)\n",
    "browser = webdriver.Chrome(options=chrome_options, service=service)\n",
    "browser.get(url)\n",
    "body = browser.find_element(By.TAG_NAME, 'body')\n",
    "auto_scroll_main()\n",
    "content = browser.page_source\n",
    "soup = BeautifulSoup(content, 'html.parser')\n",
    "links = soup.find_all('div', {'class': 'css-at0k0c-DivWrapper e1cg0wnj1'})\n",
    "with open('video_links.txt', 'w') as f:\n",
    "        for link in links:\n",
    "            link = link.find('a').get('href')\n",
    "            print(link)\n",
    "            f.write(link + '\\n')"
   ]
  },
  {
   "cell_type": "markdown",
   "metadata": {},
   "source": [
    "### test"
   ]
  },
  {
   "cell_type": "code",
   "execution_count": 2,
   "metadata": {},
   "outputs": [],
   "source": [
    "def auto_scroll_secondary():\n",
    "    last_height = browser.execute_script(\"return document.body.scrollHeight\")\n",
    "    while True:\n",
    "        # Scroll down to the bottom of the page\n",
    "        browser.execute_script(\"window.scrollTo(0, document.body.scrollHeight);\")\n",
    "        # Wait to load the page\n",
    "        time.sleep(2)\n",
    "        \n",
    "        # Check if new content (specific class) is present\n",
    "        try:\n",
    "            WebDriverWait(browser, 10).until(\n",
    "                EC.presence_of_element_located((By.CSS_SELECTOR, \".css-1mf23fd-DivContentContainer.e1g2efjf1\"))\n",
    "            )\n",
    "        except TimeoutException:\n",
    "            # If no new content is found, break the loop\n",
    "            print(\"Reached the end of the page or no more content to load.\")\n",
    "            break\n",
    "        \n",
    "        # Calculate new scroll height and compare with last scroll height\n",
    "        new_height = browser.execute_script(\"return document.body.scrollHeight\")\n",
    "        if new_height == last_height:\n",
    "            break\n",
    "        last_height = new_height"
   ]
  },
  {
   "cell_type": "code",
   "execution_count": 5,
   "metadata": {},
   "outputs": [],
   "source": [
    "url = 'https://www.tiktok.com/@hendra.setyo/video/7275133464377117957'\n",
    "path = \"chromedriver-win64/chromedriver-win64/chromedriver.exe\"\n",
    "chrome_options = Options()\n",
    "service = Service(path)\n",
    "browser = webdriver.Chrome(options=chrome_options, service=service)\n",
    "browser.get(url)\n",
    "auto_scroll_secondary()"
   ]
  },
  {
   "cell_type": "code",
   "execution_count": 14,
   "metadata": {},
   "outputs": [],
   "source": [
    "url = 'https://www.tiktok.com/@hendra.setyo/video/7275133464377117957'\n",
    "path = \"chromedriver-win64/chromedriver-win64/chromedriver.exe\"  # Pastikan path ini sesuai dengan lokasi chromedriver Anda\n",
    "chrome_options = Options()\n",
    "service = Service(path)\n",
    "browser = webdriver.Chrome(options=chrome_options, service=service)\n",
    "browser.get(url)\n",
    "\n",
    "def auto_scroll():\n",
    "    last_height = browser.execute_script(\"return document.documentElement.scrollHeight\")\n",
    "    start_time = time.time()  # Start timing\n",
    "\n",
    "    while True:\n",
    "        browser.execute_script(\"window.scrollTo(0, document.documentElement.scrollHeight);\")\n",
    "        time.sleep(2)  # Wait for the page to load\n",
    "        new_height = browser.execute_script(\"return document.documentElement.scrollHeight\")\n",
    "\n",
    "        try:\n",
    "    # Use the correct method to find an element by CSS selector\n",
    "            if browser.find_element(by=webdriver.common.by.By.CSS_SELECTOR, value='.css-1mf23fd-DivContentContainer.e1g2efjf1'):\n",
    "                start_time = time.time()  # Reset timer if element is found\n",
    "        except NoSuchElementException:\n",
    "            # If the element is not found, check the duration\n",
    "            if time.time() - start_time > 15:\n",
    "                # If more than 15 seconds, stop scrolling\n",
    "                break\n",
    "\n",
    "        if new_height == last_height:\n",
    "            break\n",
    "        last_height = new_height\n",
    "\n",
    "auto_scroll()"
   ]
  },
  {
   "cell_type": "markdown",
   "metadata": {},
   "source": [
    "## Archieve"
   ]
  },
  {
   "cell_type": "code",
   "execution_count": 52,
   "metadata": {},
   "outputs": [
    {
     "ename": "KeyboardInterrupt",
     "evalue": "",
     "output_type": "error",
     "traceback": [
      "\u001b[1;31m---------------------------------------------------------------------------\u001b[0m",
      "\u001b[1;31mKeyboardInterrupt\u001b[0m                         Traceback (most recent call last)",
      "Cell \u001b[1;32mIn[52], line 7\u001b[0m\n\u001b[0;32m      5\u001b[0m browser \u001b[38;5;241m=\u001b[39m webdriver\u001b[38;5;241m.\u001b[39mChrome(options\u001b[38;5;241m=\u001b[39mchrome_options, service\u001b[38;5;241m=\u001b[39mservice)\n\u001b[0;32m      6\u001b[0m browser\u001b[38;5;241m.\u001b[39mget(url)\n\u001b[1;32m----> 7\u001b[0m \u001b[43msearch\u001b[49m\u001b[43m(\u001b[49m\u001b[43m)\u001b[49m\n\u001b[0;32m      8\u001b[0m links \u001b[38;5;241m=\u001b[39m soup\u001b[38;5;241m.\u001b[39mfind(\u001b[38;5;124m'\u001b[39m\u001b[38;5;124mdiv\u001b[39m\u001b[38;5;124m'\u001b[39m, {\u001b[38;5;124m'\u001b[39m\u001b[38;5;124mclass\u001b[39m\u001b[38;5;124m'\u001b[39m: \u001b[38;5;124m'\u001b[39m\u001b[38;5;124mpadding-top: 133.188\u001b[39m\u001b[38;5;124m%\u001b[39m\u001b[38;5;124m;\u001b[39m\u001b[38;5;124m'\u001b[39m})\n\u001b[0;32m      9\u001b[0m \u001b[38;5;28;01mfor\u001b[39;00m link \u001b[38;5;129;01min\u001b[39;00m links:\n",
      "Cell \u001b[1;32mIn[51], line 10\u001b[0m, in \u001b[0;36msearch\u001b[1;34m(keyword)\u001b[0m\n\u001b[0;32m      8\u001b[0m \u001b[38;5;28;01mexcept\u001b[39;00m \u001b[38;5;167;01mException\u001b[39;00m \u001b[38;5;28;01mas\u001b[39;00m e:\n\u001b[0;32m      9\u001b[0m     \u001b[38;5;28mprint\u001b[39m(\u001b[38;5;124mf\u001b[39m\u001b[38;5;124m\"\u001b[39m\u001b[38;5;124mError: \u001b[39m\u001b[38;5;132;01m{\u001b[39;00me\u001b[38;5;132;01m}\u001b[39;00m\u001b[38;5;124m\"\u001b[39m)\n\u001b[1;32m---> 10\u001b[0m \u001b[43mauto_scroll_main\u001b[49m\u001b[43m(\u001b[49m\u001b[43m)\u001b[49m\n\u001b[0;32m     11\u001b[0m soup \u001b[38;5;241m=\u001b[39m BeautifulSoup(browser\u001b[38;5;241m.\u001b[39mpage_source, \u001b[38;5;124m'\u001b[39m\u001b[38;5;124mhtml.parser\u001b[39m\u001b[38;5;124m'\u001b[39m)\u001b[38;5;241m.\u001b[39mtext()\n\u001b[0;32m     12\u001b[0m \u001b[38;5;28;01mreturn\u001b[39;00m soup\n",
      "Cell \u001b[1;32mIn[44], line 8\u001b[0m, in \u001b[0;36mauto_scroll_main\u001b[1;34m()\u001b[0m\n\u001b[0;32m      6\u001b[0m \u001b[38;5;28;01mwhile\u001b[39;00m \u001b[38;5;28;01mTrue\u001b[39;00m:\n\u001b[0;32m      7\u001b[0m     body\u001b[38;5;241m.\u001b[39msend_keys(Keys\u001b[38;5;241m.\u001b[39mPAGE_DOWN)\n\u001b[1;32m----> 8\u001b[0m     \u001b[43mtime\u001b[49m\u001b[38;5;241;43m.\u001b[39;49m\u001b[43msleep\u001b[49m\u001b[43m(\u001b[49m\u001b[38;5;241;43m2\u001b[39;49m\u001b[43m)\u001b[49m  \u001b[38;5;66;03m# Adjust time according to your needs\u001b[39;00m\n\u001b[0;32m      9\u001b[0m     no_more_results \u001b[38;5;241m=\u001b[39m browser\u001b[38;5;241m.\u001b[39mfind_elements(By\u001b[38;5;241m.\u001b[39mCLASS_NAME, \u001b[38;5;124m'\u001b[39m\u001b[38;5;124mcss-usx5e-DivNoMoreResultsContainer.eegew6e3\u001b[39m\u001b[38;5;124m'\u001b[39m)\n\u001b[0;32m     10\u001b[0m     \u001b[38;5;28;01mif\u001b[39;00m no_more_results:\n",
      "\u001b[1;31mKeyboardInterrupt\u001b[0m: "
     ]
    }
   ],
   "source": [
    "url = 'https://www.tiktok.com/'\n",
    "path = \"chromedriver-win64/chromedriver-win64/chromedriver.exe\"\n",
    "chrome_options = Options()\n",
    "service = Service(path)\n",
    "browser = webdriver.Chrome(options=chrome_options, service=service)\n",
    "browser.get(url)\n",
    "content = browser.page_source\n",
    "soup = BeautifulSoup(content, 'html.parser')\n",
    "search()\n",
    "links = soup.find_all('div', {'class': 'padding-top: 133.188%;'})\n",
    "for link in links:\n",
    "    link = link.find('a').get('href')\n",
    "    print(link)"
   ]
  },
  {
   "cell_type": "code",
   "execution_count": 47,
   "metadata": {},
   "outputs": [
    {
     "ename": "KeyboardInterrupt",
     "evalue": "",
     "output_type": "error",
     "traceback": [
      "\u001b[1;31m---------------------------------------------------------------------------\u001b[0m",
      "\u001b[1;31mKeyboardInterrupt\u001b[0m                         Traceback (most recent call last)",
      "Cell \u001b[1;32mIn[47], line 7\u001b[0m\n\u001b[0;32m      5\u001b[0m browser \u001b[38;5;241m=\u001b[39m webdriver\u001b[38;5;241m.\u001b[39mChrome(options\u001b[38;5;241m=\u001b[39mchrome_options, service\u001b[38;5;241m=\u001b[39mservice)\n\u001b[0;32m      6\u001b[0m browser\u001b[38;5;241m.\u001b[39mget(url)\n\u001b[1;32m----> 7\u001b[0m \u001b[43msave_video_url\u001b[49m\u001b[43m(\u001b[49m\u001b[43m)\u001b[49m\n",
      "Cell \u001b[1;32mIn[46], line 3\u001b[0m, in \u001b[0;36msave_video_url\u001b[1;34m()\u001b[0m\n\u001b[0;32m      1\u001b[0m \u001b[38;5;28;01mdef\u001b[39;00m \u001b[38;5;21msave_video_url\u001b[39m():\n\u001b[0;32m      2\u001b[0m     \u001b[38;5;66;03m# todo: save video url to a file\u001b[39;00m\n\u001b[1;32m----> 3\u001b[0m     \u001b[43msearch\u001b[49m\u001b[43m(\u001b[49m\u001b[43m)\u001b[49m\n\u001b[0;32m      4\u001b[0m     links \u001b[38;5;241m=\u001b[39m soup\u001b[38;5;241m.\u001b[39mfind_all(\u001b[38;5;124m'\u001b[39m\u001b[38;5;124mdiv\u001b[39m\u001b[38;5;124m'\u001b[39m, {\u001b[38;5;124m'\u001b[39m\u001b[38;5;124mclass\u001b[39m\u001b[38;5;124m'\u001b[39m: \u001b[38;5;124m'\u001b[39m\u001b[38;5;124mcss-at0k0c-DivWrapper e1cg0wnj1\u001b[39m\u001b[38;5;124m'\u001b[39m})\n\u001b[0;32m      5\u001b[0m     \u001b[38;5;28;01mwith\u001b[39;00m \u001b[38;5;28mopen\u001b[39m(\u001b[38;5;124m'\u001b[39m\u001b[38;5;124mvideo_links.txt\u001b[39m\u001b[38;5;124m'\u001b[39m, \u001b[38;5;124m'\u001b[39m\u001b[38;5;124mw\u001b[39m\u001b[38;5;124m'\u001b[39m) \u001b[38;5;28;01mas\u001b[39;00m f:\n",
      "Cell \u001b[1;32mIn[45], line 10\u001b[0m, in \u001b[0;36msearch\u001b[1;34m(keyword)\u001b[0m\n\u001b[0;32m      8\u001b[0m \u001b[38;5;28;01mexcept\u001b[39;00m \u001b[38;5;167;01mException\u001b[39;00m \u001b[38;5;28;01mas\u001b[39;00m e:\n\u001b[0;32m      9\u001b[0m     \u001b[38;5;28mprint\u001b[39m(\u001b[38;5;124mf\u001b[39m\u001b[38;5;124m\"\u001b[39m\u001b[38;5;124mError: \u001b[39m\u001b[38;5;132;01m{\u001b[39;00me\u001b[38;5;132;01m}\u001b[39;00m\u001b[38;5;124m\"\u001b[39m)\n\u001b[1;32m---> 10\u001b[0m \u001b[43mauto_scroll_main\u001b[49m\u001b[43m(\u001b[49m\u001b[43m)\u001b[49m\n\u001b[0;32m     11\u001b[0m soup \u001b[38;5;241m=\u001b[39m BeautifulSoup(browser\u001b[38;5;241m.\u001b[39mpage_source, \u001b[38;5;124m'\u001b[39m\u001b[38;5;124mhtml.parser\u001b[39m\u001b[38;5;124m'\u001b[39m)\n\u001b[0;32m     12\u001b[0m \u001b[38;5;28;01mreturn\u001b[39;00m soup\n",
      "Cell \u001b[1;32mIn[44], line 8\u001b[0m, in \u001b[0;36mauto_scroll_main\u001b[1;34m()\u001b[0m\n\u001b[0;32m      6\u001b[0m \u001b[38;5;28;01mwhile\u001b[39;00m \u001b[38;5;28;01mTrue\u001b[39;00m:\n\u001b[0;32m      7\u001b[0m     body\u001b[38;5;241m.\u001b[39msend_keys(Keys\u001b[38;5;241m.\u001b[39mPAGE_DOWN)\n\u001b[1;32m----> 8\u001b[0m     \u001b[43mtime\u001b[49m\u001b[38;5;241;43m.\u001b[39;49m\u001b[43msleep\u001b[49m\u001b[43m(\u001b[49m\u001b[38;5;241;43m2\u001b[39;49m\u001b[43m)\u001b[49m  \u001b[38;5;66;03m# Adjust time according to your needs\u001b[39;00m\n\u001b[0;32m      9\u001b[0m     no_more_results \u001b[38;5;241m=\u001b[39m browser\u001b[38;5;241m.\u001b[39mfind_elements(By\u001b[38;5;241m.\u001b[39mCLASS_NAME, \u001b[38;5;124m'\u001b[39m\u001b[38;5;124mcss-usx5e-DivNoMoreResultsContainer.eegew6e3\u001b[39m\u001b[38;5;124m'\u001b[39m)\n\u001b[0;32m     10\u001b[0m     \u001b[38;5;28;01mif\u001b[39;00m no_more_results:\n",
      "\u001b[1;31mKeyboardInterrupt\u001b[0m: "
     ]
    }
   ],
   "source": [
    "url = 'https://www.tiktok.com/'\n",
    "path = \"chromedriver-win64/chromedriver-win64/chromedriver.exe\"\n",
    "chrome_options = Options()\n",
    "service = Service(path)\n",
    "browser = webdriver.Chrome(options=chrome_options, service=service)\n",
    "browser.get(url)\n",
    "save_video_url()"
   ]
  },
  {
   "cell_type": "code",
   "execution_count": 33,
   "metadata": {},
   "outputs": [
    {
     "name": "stdout",
     "output_type": "stream",
     "text": [
      "No more results found. Stopping auto scroll.\n"
     ]
    }
   ],
   "source": [
    "automate()"
   ]
  }
 ],
 "metadata": {
  "kernelspec": {
   "display_name": ".venv",
   "language": "python",
   "name": "python3"
  },
  "language_info": {
   "codemirror_mode": {
    "name": "ipython",
    "version": 3
   },
   "file_extension": ".py",
   "mimetype": "text/x-python",
   "name": "python",
   "nbconvert_exporter": "python",
   "pygments_lexer": "ipython3",
   "version": "3.12.0"
  }
 },
 "nbformat": 4,
 "nbformat_minor": 2
}
